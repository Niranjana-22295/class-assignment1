{
 "cells": [
  {
   "cell_type": "code",
   "execution_count": 5,
   "metadata": {},
   "outputs": [
    {
     "name": "stdout",
     "output_type": "stream",
     "text": [
      "Subfields in AI are:\n",
      "Machine learing\n",
      "Neural networks\n",
      "Vision\n",
      "Robotics\n",
      "speech processing\n",
      "Natural Language Processing\n"
     ]
    }
   ],
   "source": [
    "from ClassAssignment import ClassAssignments\n",
    "ClassAssignments.subfields()"
   ]
  },
  {
   "cell_type": "code",
   "execution_count": 11,
   "metadata": {},
   "outputs": [
    {
     "name": "stdout",
     "output_type": "stream",
     "text": [
      "Enter a number:52452\n",
      "52452 is even\n"
     ]
    },
    {
     "data": {
      "text/plain": [
       "'even'"
      ]
     },
     "execution_count": 11,
     "metadata": {},
     "output_type": "execute_result"
    }
   ],
   "source": [
    "ClassAssignments.OddEven()"
   ]
  },
  {
   "cell_type": "code",
   "execution_count": 12,
   "metadata": {},
   "outputs": [
    {
     "name": "stdout",
     "output_type": "stream",
     "text": [
      "Your Gender: male\n",
      "Your Age: 20\n",
      "NOT ELEGIBLE\n",
      "ELEGIBLE\n"
     ]
    },
    {
     "data": {
      "text/plain": [
       "'ELEGIBLE'"
      ]
     },
     "execution_count": 12,
     "metadata": {},
     "output_type": "execute_result"
    }
   ],
   "source": [
    "ClassAssignments.Elegible()"
   ]
  },
  {
   "cell_type": "code",
   "execution_count": 13,
   "metadata": {},
   "outputs": [
    {
     "name": "stdout",
     "output_type": "stream",
     "text": [
      "subject 1 = 98\n",
      "subject 2 = 87\n",
      "subject 3 = 95\n",
      "subject 4 = 95\n",
      "subject 5 = 93\n",
      "total=  468\n",
      "Percentage=  93.600000\n"
     ]
    }
   ],
   "source": [
    "ClassAssignments.percentage()"
   ]
  },
  {
   "cell_type": "code",
   "execution_count": 14,
   "metadata": {},
   "outputs": [
    {
     "name": "stdout",
     "output_type": "stream",
     "text": [
      "Height1 = 32\n",
      "Breadth = 34\n",
      "Area formula :(H*breadth)/2\n",
      "Area of triangle =  544.0\n",
      "Height1 = 2\n",
      "Height2 = 4\n",
      "Breadth = 4\n",
      "Perimeter formula : Height1+Height2+breadth\n",
      "Perimeter of Triangle =  10\n"
     ]
    }
   ],
   "source": [
    "ClassAssignments.triangle()"
   ]
  },
  {
   "cell_type": "code",
   "execution_count": null,
   "metadata": {},
   "outputs": [],
   "source": []
  }
 ],
 "metadata": {
  "kernelspec": {
   "display_name": "Python 3",
   "language": "python",
   "name": "python3"
  },
  "language_info": {
   "codemirror_mode": {
    "name": "ipython",
    "version": 3
   },
   "file_extension": ".py",
   "mimetype": "text/x-python",
   "name": "python",
   "nbconvert_exporter": "python",
   "pygments_lexer": "ipython3",
   "version": "3.7.4"
  }
 },
 "nbformat": 4,
 "nbformat_minor": 2
}
